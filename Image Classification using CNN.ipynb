{
 "cells": [
  {
   "cell_type": "markdown",
   "metadata": {},
   "source": [
    "<h3>1. Import module yang dibutuhkan</h3>"
   ]
  },
  {
   "cell_type": "code",
   "execution_count": 3,
   "metadata": {},
   "outputs": [],
   "source": [
    "from sklearn.model_selection import train_test_split\n",
    "from sklearn.preprocessing import LabelEncoder\n",
    "from sklearn.metrics import classification_report\n",
    "from tensorflow.keras.models import Sequential\n",
    "from tensorflow.keras.layers import InputLayer, Flatten, Dense, Conv2D, MaxPool2D, Dropout\n",
    "from tensorflow.keras.optimizers import Adam\n",
    "import numpy as np\n",
    "import cv2\n",
    "import glob\n",
    "import matplotlib.pyplot as plt"
   ]
  },
  {
   "cell_type": "markdown",
   "metadata": {},
   "source": [
    "<h3>2. Load Dataset</h3>"
   ]
  },
  {
   "cell_type": "code",
   "execution_count": 4,
   "metadata": {},
   "outputs": [],
   "source": [
    "imagePaths = 'Dataset\\\\'\n",
    "label_list = ['Belimbing Wuluh', 'Lidah Buaya']\n",
    "data = []\n",
    "labels = []"
   ]
  },
  {
   "cell_type": "code",
   "execution_count": 5,
   "metadata": {},
   "outputs": [],
   "source": [
    "for label in label_list:\n",
    "    for imagePath in glob.glob(imagePaths+label+'\\\\*.jpg'):\n",
    "        #print(imagePath)\n",
    "        image = cv2.imread(imagePath)\n",
    "        image = cv2.resize(image, (32, 32))\n",
    "        data.append(image)\n",
    "        labels.append(label)"
   ]
  },
  {
   "cell_type": "code",
   "execution_count": 6,
   "metadata": {},
   "outputs": [
    {
     "data": {
      "text/plain": [
       "(100, 32, 32, 3)"
      ]
     },
     "execution_count": 6,
     "metadata": {},
     "output_type": "execute_result"
    }
   ],
   "source": [
    "np.array(data).shape"
   ]
  },
  {
   "cell_type": "markdown",
   "metadata": {},
   "source": [
    "<h3>3. Data Preprocessing</h3>"
   ]
  },
  {
   "cell_type": "code",
   "execution_count": 9,
   "metadata": {},
   "outputs": [],
   "source": [
    "# ubah type data dari list menjadi array\n",
    "# ubah nilai dari tiap pixel menjadi range [0..1]\n",
    "data = np.array(data, dtype='float') / 255.0\n",
    "labels = np.array(labels)"
   ]
  },
  {
   "cell_type": "code",
   "execution_count": 10,
   "metadata": {},
   "outputs": [
    {
     "name": "stdout",
     "output_type": "stream",
     "text": [
      "['Belimbing Wuluh' 'Belimbing Wuluh' 'Belimbing Wuluh' 'Belimbing Wuluh'\n",
      " 'Belimbing Wuluh' 'Belimbing Wuluh' 'Belimbing Wuluh' 'Belimbing Wuluh'\n",
      " 'Belimbing Wuluh' 'Belimbing Wuluh' 'Belimbing Wuluh' 'Belimbing Wuluh'\n",
      " 'Belimbing Wuluh' 'Belimbing Wuluh' 'Belimbing Wuluh' 'Belimbing Wuluh'\n",
      " 'Belimbing Wuluh' 'Belimbing Wuluh' 'Belimbing Wuluh' 'Belimbing Wuluh'\n",
      " 'Belimbing Wuluh' 'Belimbing Wuluh' 'Belimbing Wuluh' 'Belimbing Wuluh'\n",
      " 'Belimbing Wuluh' 'Belimbing Wuluh' 'Belimbing Wuluh' 'Belimbing Wuluh'\n",
      " 'Belimbing Wuluh' 'Belimbing Wuluh' 'Belimbing Wuluh' 'Belimbing Wuluh'\n",
      " 'Belimbing Wuluh' 'Belimbing Wuluh' 'Belimbing Wuluh' 'Belimbing Wuluh'\n",
      " 'Belimbing Wuluh' 'Belimbing Wuluh' 'Belimbing Wuluh' 'Belimbing Wuluh'\n",
      " 'Belimbing Wuluh' 'Belimbing Wuluh' 'Belimbing Wuluh' 'Belimbing Wuluh'\n",
      " 'Belimbing Wuluh' 'Belimbing Wuluh' 'Belimbing Wuluh' 'Belimbing Wuluh'\n",
      " 'Belimbing Wuluh' 'Belimbing Wuluh' 'Lidah Buaya' 'Lidah Buaya'\n",
      " 'Lidah Buaya' 'Lidah Buaya' 'Lidah Buaya' 'Lidah Buaya' 'Lidah Buaya'\n",
      " 'Lidah Buaya' 'Lidah Buaya' 'Lidah Buaya' 'Lidah Buaya' 'Lidah Buaya'\n",
      " 'Lidah Buaya' 'Lidah Buaya' 'Lidah Buaya' 'Lidah Buaya' 'Lidah Buaya'\n",
      " 'Lidah Buaya' 'Lidah Buaya' 'Lidah Buaya' 'Lidah Buaya' 'Lidah Buaya'\n",
      " 'Lidah Buaya' 'Lidah Buaya' 'Lidah Buaya' 'Lidah Buaya' 'Lidah Buaya'\n",
      " 'Lidah Buaya' 'Lidah Buaya' 'Lidah Buaya' 'Lidah Buaya' 'Lidah Buaya'\n",
      " 'Lidah Buaya' 'Lidah Buaya' 'Lidah Buaya' 'Lidah Buaya' 'Lidah Buaya'\n",
      " 'Lidah Buaya' 'Lidah Buaya' 'Lidah Buaya' 'Lidah Buaya' 'Lidah Buaya'\n",
      " 'Lidah Buaya' 'Lidah Buaya' 'Lidah Buaya' 'Lidah Buaya' 'Lidah Buaya'\n",
      " 'Lidah Buaya' 'Lidah Buaya' 'Lidah Buaya']\n"
     ]
    }
   ],
   "source": [
    "print(labels)"
   ]
  },
  {
   "cell_type": "code",
   "execution_count": 11,
   "metadata": {},
   "outputs": [
    {
     "name": "stdout",
     "output_type": "stream",
     "text": [
      "[0 0 0 0 0 0 0 0 0 0 0 0 0 0 0 0 0 0 0 0 0 0 0 0 0 0 0 0 0 0 0 0 0 0 0 0 0\n",
      " 0 0 0 0 0 0 0 0 0 0 0 0 0 1 1 1 1 1 1 1 1 1 1 1 1 1 1 1 1 1 1 1 1 1 1 1 1\n",
      " 1 1 1 1 1 1 1 1 1 1 1 1 1 1 1 1 1 1 1 1 1 1 1 1 1 1]\n"
     ]
    }
   ],
   "source": [
    "# ubah nilai dari labels menjadi binary\n",
    "lb = LabelEncoder()\n",
    "labels = lb.fit_transform(labels)\n",
    "print(labels)"
   ]
  },
  {
   "cell_type": "markdown",
   "metadata": {},
   "source": [
    "<h3>4. Split Dataset</h3>"
   ]
  },
  {
   "cell_type": "code",
   "execution_count": 12,
   "metadata": {},
   "outputs": [],
   "source": [
    "x_train, x_test, y_train, y_test = train_test_split(data, labels, test_size=0.2, random_state=42)"
   ]
  },
  {
   "cell_type": "code",
   "execution_count": 13,
   "metadata": {},
   "outputs": [
    {
     "name": "stdout",
     "output_type": "stream",
     "text": [
      "Ukuran data train = (80, 32, 32, 3)\n",
      "Ukuran data test = (20, 32, 32, 3)\n"
     ]
    }
   ],
   "source": [
    "print('Ukuran data train =', x_train.shape)\n",
    "print('Ukuran data test =', x_test.shape)"
   ]
  },
  {
   "cell_type": "markdown",
   "metadata": {},
   "source": [
    "<h3>5. Build CNN Architecture</h3>"
   ]
  },
  {
   "cell_type": "code",
   "execution_count": 14,
   "metadata": {},
   "outputs": [],
   "source": [
    "model = Sequential()\n",
    "# Extracted Feature Layer\n",
    "model.add(InputLayer(input_shape=[32,32,3]))\n",
    "model.add(Conv2D(filters=32, kernel_size=2, strides=1, padding='same', activation='relu'))\n",
    "model.add(MaxPool2D(pool_size=2, padding='same'))\n",
    "model.add(Conv2D(filters=50, kernel_size=2, strides=1, padding='same', activation='relu'))\n",
    "model.add(MaxPool2D(pool_size=2, padding='same'))\n",
    "model.add(Dropout(0.25))\n",
    "model.add(Flatten())\n",
    "# Fully Connected Layer\n",
    "model.add(Dense(512, activation='relu'))\n",
    "model.add(Dropout(0.5))\n",
    "model.add(Dense(1, activation='sigmoid'))"
   ]
  },
  {
   "cell_type": "code",
   "execution_count": 15,
   "metadata": {},
   "outputs": [
    {
     "name": "stdout",
     "output_type": "stream",
     "text": [
      "Model: \"sequential\"\n",
      "_________________________________________________________________\n",
      " Layer (type)                Output Shape              Param #   \n",
      "=================================================================\n",
      " conv2d (Conv2D)             (None, 32, 32, 32)        416       \n",
      "                                                                 \n",
      " max_pooling2d (MaxPooling2D  (None, 16, 16, 32)       0         \n",
      " )                                                               \n",
      "                                                                 \n",
      " conv2d_1 (Conv2D)           (None, 16, 16, 50)        6450      \n",
      "                                                                 \n",
      " max_pooling2d_1 (MaxPooling  (None, 8, 8, 50)         0         \n",
      " 2D)                                                             \n",
      "                                                                 \n",
      " dropout (Dropout)           (None, 8, 8, 50)          0         \n",
      "                                                                 \n",
      " flatten (Flatten)           (None, 3200)              0         \n",
      "                                                                 \n",
      " dense (Dense)               (None, 512)               1638912   \n",
      "                                                                 \n",
      " dropout_1 (Dropout)         (None, 512)               0         \n",
      "                                                                 \n",
      " dense_1 (Dense)             (None, 1)                 513       \n",
      "                                                                 \n",
      "=================================================================\n",
      "Total params: 1,646,291\n",
      "Trainable params: 1,646,291\n",
      "Non-trainable params: 0\n",
      "_________________________________________________________________\n"
     ]
    }
   ],
   "source": [
    "model.summary()"
   ]
  },
  {
   "cell_type": "code",
   "execution_count": 16,
   "metadata": {},
   "outputs": [],
   "source": [
    "# tentukan hyperparameter\n",
    "lr = 0.001\n",
    "max_epochs = 100\n",
    "opt_funct = Adam(learning_rate=lr)"
   ]
  },
  {
   "cell_type": "code",
   "execution_count": 17,
   "metadata": {},
   "outputs": [],
   "source": [
    "# compile arsitektur yang telah dibuat\n",
    "model.compile(loss = 'binary_crossentropy', \n",
    "              optimizer = opt_funct, \n",
    "              metrics = ['accuracy'])"
   ]
  },
  {
   "cell_type": "markdown",
   "metadata": {},
   "source": [
    "<h3>6. Train Model</h3>"
   ]
  },
  {
   "cell_type": "code",
   "execution_count": 18,
   "metadata": {},
   "outputs": [
    {
     "name": "stdout",
     "output_type": "stream",
     "text": [
      "Epoch 1/100\n",
      "3/3 [==============================] - 2s 299ms/step - loss: 0.6934 - accuracy: 0.4375 - val_loss: 0.6945 - val_accuracy: 0.4000\n",
      "Epoch 2/100\n",
      "3/3 [==============================] - 0s 120ms/step - loss: 0.6932 - accuracy: 0.5250 - val_loss: 0.6967 - val_accuracy: 0.4000\n",
      "Epoch 3/100\n",
      "3/3 [==============================] - 0s 129ms/step - loss: 0.6931 - accuracy: 0.5250 - val_loss: 0.6961 - val_accuracy: 0.4000\n",
      "Epoch 4/100\n",
      "3/3 [==============================] - 0s 129ms/step - loss: 0.6932 - accuracy: 0.5250 - val_loss: 0.6962 - val_accuracy: 0.4000\n",
      "Epoch 5/100\n",
      "3/3 [==============================] - 0s 123ms/step - loss: 0.6915 - accuracy: 0.5250 - val_loss: 0.6961 - val_accuracy: 0.4000\n",
      "Epoch 6/100\n",
      "3/3 [==============================] - 0s 131ms/step - loss: 0.6921 - accuracy: 0.5125 - val_loss: 0.6950 - val_accuracy: 0.4000\n",
      "Epoch 7/100\n",
      "3/3 [==============================] - 0s 136ms/step - loss: 0.6915 - accuracy: 0.5250 - val_loss: 0.6962 - val_accuracy: 0.4000\n",
      "Epoch 8/100\n",
      "3/3 [==============================] - 0s 126ms/step - loss: 0.6913 - accuracy: 0.5250 - val_loss: 0.6948 - val_accuracy: 0.4000\n",
      "Epoch 9/100\n",
      "3/3 [==============================] - 0s 136ms/step - loss: 0.6902 - accuracy: 0.5250 - val_loss: 0.6939 - val_accuracy: 0.4000\n",
      "Epoch 10/100\n",
      "3/3 [==============================] - 0s 124ms/step - loss: 0.6896 - accuracy: 0.5500 - val_loss: 0.6969 - val_accuracy: 0.4000\n",
      "Epoch 11/100\n",
      "3/3 [==============================] - 0s 124ms/step - loss: 0.6891 - accuracy: 0.5250 - val_loss: 0.6958 - val_accuracy: 0.4000\n",
      "Epoch 12/100\n",
      "3/3 [==============================] - 0s 131ms/step - loss: 0.6873 - accuracy: 0.5250 - val_loss: 0.6968 - val_accuracy: 0.4000\n",
      "Epoch 13/100\n",
      "3/3 [==============================] - 0s 147ms/step - loss: 0.6861 - accuracy: 0.5375 - val_loss: 0.6976 - val_accuracy: 0.4000\n",
      "Epoch 14/100\n",
      "3/3 [==============================] - 0s 137ms/step - loss: 0.6834 - accuracy: 0.5500 - val_loss: 0.6905 - val_accuracy: 0.4500\n",
      "Epoch 15/100\n",
      "3/3 [==============================] - 0s 122ms/step - loss: 0.6886 - accuracy: 0.5750 - val_loss: 0.6846 - val_accuracy: 0.8000\n",
      "Epoch 16/100\n",
      "3/3 [==============================] - 0s 131ms/step - loss: 0.6828 - accuracy: 0.6250 - val_loss: 0.6973 - val_accuracy: 0.4000\n",
      "Epoch 17/100\n",
      "3/3 [==============================] - 0s 131ms/step - loss: 0.6766 - accuracy: 0.5250 - val_loss: 0.6966 - val_accuracy: 0.4000\n",
      "Epoch 18/100\n",
      "3/3 [==============================] - 0s 135ms/step - loss: 0.6708 - accuracy: 0.5500 - val_loss: 0.6975 - val_accuracy: 0.4000\n",
      "Epoch 19/100\n",
      "3/3 [==============================] - 0s 124ms/step - loss: 0.6675 - accuracy: 0.5875 - val_loss: 0.6803 - val_accuracy: 0.5000\n",
      "Epoch 20/100\n",
      "3/3 [==============================] - 0s 137ms/step - loss: 0.6691 - accuracy: 0.6750 - val_loss: 0.6722 - val_accuracy: 0.8000\n",
      "Epoch 21/100\n",
      "3/3 [==============================] - 0s 121ms/step - loss: 0.6628 - accuracy: 0.7000 - val_loss: 0.7010 - val_accuracy: 0.4000\n",
      "Epoch 22/100\n",
      "3/3 [==============================] - 0s 140ms/step - loss: 0.6669 - accuracy: 0.5500 - val_loss: 0.6632 - val_accuracy: 0.8000\n",
      "Epoch 23/100\n",
      "3/3 [==============================] - 0s 137ms/step - loss: 0.6535 - accuracy: 0.7750 - val_loss: 0.6462 - val_accuracy: 0.9000\n",
      "Epoch 24/100\n",
      "3/3 [==============================] - 0s 134ms/step - loss: 0.6575 - accuracy: 0.6125 - val_loss: 0.6730 - val_accuracy: 0.4500\n",
      "Epoch 25/100\n",
      "3/3 [==============================] - 0s 123ms/step - loss: 0.6247 - accuracy: 0.7875 - val_loss: 0.6278 - val_accuracy: 0.8000\n",
      "Epoch 26/100\n",
      "3/3 [==============================] - 0s 140ms/step - loss: 0.6363 - accuracy: 0.6875 - val_loss: 0.6218 - val_accuracy: 0.8500\n",
      "Epoch 27/100\n",
      "3/3 [==============================] - 0s 122ms/step - loss: 0.6109 - accuracy: 0.8625 - val_loss: 0.6282 - val_accuracy: 0.8000\n",
      "Epoch 28/100\n",
      "3/3 [==============================] - 0s 127ms/step - loss: 0.5994 - accuracy: 0.7875 - val_loss: 0.6192 - val_accuracy: 0.8000\n",
      "Epoch 29/100\n",
      "3/3 [==============================] - 0s 122ms/step - loss: 0.5804 - accuracy: 0.8875 - val_loss: 0.5983 - val_accuracy: 0.8500\n",
      "Epoch 30/100\n",
      "3/3 [==============================] - 0s 134ms/step - loss: 0.5640 - accuracy: 0.7750 - val_loss: 0.6102 - val_accuracy: 0.6500\n",
      "Epoch 31/100\n",
      "3/3 [==============================] - 0s 123ms/step - loss: 0.5564 - accuracy: 0.8375 - val_loss: 0.5633 - val_accuracy: 0.8000\n",
      "Epoch 32/100\n",
      "3/3 [==============================] - 0s 131ms/step - loss: 0.5229 - accuracy: 0.8625 - val_loss: 0.5417 - val_accuracy: 0.8500\n",
      "Epoch 33/100\n",
      "3/3 [==============================] - 0s 137ms/step - loss: 0.5015 - accuracy: 0.8875 - val_loss: 0.5081 - val_accuracy: 0.8500\n",
      "Epoch 34/100\n",
      "3/3 [==============================] - 0s 128ms/step - loss: 0.4797 - accuracy: 0.9250 - val_loss: 0.5551 - val_accuracy: 0.7000\n",
      "Epoch 35/100\n",
      "3/3 [==============================] - 0s 129ms/step - loss: 0.4824 - accuracy: 0.7500 - val_loss: 0.4686 - val_accuracy: 0.8500\n",
      "Epoch 36/100\n",
      "3/3 [==============================] - 0s 164ms/step - loss: 0.4689 - accuracy: 0.8375 - val_loss: 0.5725 - val_accuracy: 0.6500\n",
      "Epoch 37/100\n",
      "3/3 [==============================] - 0s 134ms/step - loss: 0.5380 - accuracy: 0.6625 - val_loss: 0.4893 - val_accuracy: 0.8000\n",
      "Epoch 38/100\n",
      "3/3 [==============================] - 0s 123ms/step - loss: 0.4430 - accuracy: 0.8125 - val_loss: 0.4401 - val_accuracy: 0.7500\n",
      "Epoch 39/100\n",
      "3/3 [==============================] - 0s 123ms/step - loss: 0.4756 - accuracy: 0.8000 - val_loss: 0.5690 - val_accuracy: 0.6500\n",
      "Epoch 40/100\n",
      "3/3 [==============================] - 0s 155ms/step - loss: 0.4460 - accuracy: 0.8000 - val_loss: 0.4236 - val_accuracy: 0.8500\n",
      "Epoch 41/100\n",
      "3/3 [==============================] - 0s 146ms/step - loss: 0.4092 - accuracy: 0.8750 - val_loss: 0.4089 - val_accuracy: 0.8500\n",
      "Epoch 42/100\n",
      "3/3 [==============================] - 0s 167ms/step - loss: 0.3833 - accuracy: 0.8625 - val_loss: 0.4575 - val_accuracy: 0.8000\n",
      "Epoch 43/100\n",
      "3/3 [==============================] - 0s 165ms/step - loss: 0.3748 - accuracy: 0.9000 - val_loss: 0.4008 - val_accuracy: 0.8500\n",
      "Epoch 44/100\n",
      "3/3 [==============================] - 0s 138ms/step - loss: 0.3323 - accuracy: 0.9500 - val_loss: 0.3700 - val_accuracy: 0.8500\n",
      "Epoch 45/100\n",
      "3/3 [==============================] - 0s 138ms/step - loss: 0.3140 - accuracy: 0.9625 - val_loss: 0.3984 - val_accuracy: 0.8500\n",
      "Epoch 46/100\n",
      "3/3 [==============================] - 0s 138ms/step - loss: 0.2956 - accuracy: 0.9250 - val_loss: 0.3500 - val_accuracy: 0.8500\n",
      "Epoch 47/100\n",
      "3/3 [==============================] - 0s 131ms/step - loss: 0.3174 - accuracy: 0.8750 - val_loss: 0.4127 - val_accuracy: 0.8000\n",
      "Epoch 48/100\n",
      "3/3 [==============================] - 0s 141ms/step - loss: 0.3671 - accuracy: 0.8000 - val_loss: 0.4011 - val_accuracy: 0.8000\n",
      "Epoch 49/100\n",
      "3/3 [==============================] - 0s 128ms/step - loss: 0.3272 - accuracy: 0.8625 - val_loss: 0.3441 - val_accuracy: 0.8500\n",
      "Epoch 50/100\n",
      "3/3 [==============================] - 0s 131ms/step - loss: 0.2786 - accuracy: 0.8875 - val_loss: 0.4219 - val_accuracy: 0.8000\n",
      "Epoch 51/100\n",
      "3/3 [==============================] - 0s 149ms/step - loss: 0.2796 - accuracy: 0.9125 - val_loss: 0.3292 - val_accuracy: 0.8500\n",
      "Epoch 52/100\n",
      "3/3 [==============================] - 0s 154ms/step - loss: 0.2610 - accuracy: 0.9125 - val_loss: 0.3184 - val_accuracy: 0.8500\n",
      "Epoch 53/100\n",
      "3/3 [==============================] - 0s 141ms/step - loss: 0.2571 - accuracy: 0.9375 - val_loss: 0.3718 - val_accuracy: 0.8500\n",
      "Epoch 54/100\n",
      "3/3 [==============================] - ETA: 0s - loss: 0.2706 - accuracy: 0.93 - 0s 152ms/step - loss: 0.2706 - accuracy: 0.9375 - val_loss: 0.3108 - val_accuracy: 0.8000\n",
      "Epoch 55/100\n",
      "3/3 [==============================] - 0s 150ms/step - loss: 0.2489 - accuracy: 0.9125 - val_loss: 0.3080 - val_accuracy: 0.8500\n",
      "Epoch 56/100\n",
      "3/3 [==============================] - 0s 143ms/step - loss: 0.2379 - accuracy: 0.9250 - val_loss: 0.3419 - val_accuracy: 0.8500\n",
      "Epoch 57/100\n",
      "3/3 [==============================] - 0s 153ms/step - loss: 0.2523 - accuracy: 0.9000 - val_loss: 0.2995 - val_accuracy: 0.8500\n",
      "Epoch 58/100\n",
      "3/3 [==============================] - 1s 180ms/step - loss: 0.2470 - accuracy: 0.9125 - val_loss: 0.2908 - val_accuracy: 0.8500\n",
      "Epoch 59/100\n",
      "3/3 [==============================] - 0s 142ms/step - loss: 0.2384 - accuracy: 0.9125 - val_loss: 0.3711 - val_accuracy: 0.8500\n",
      "Epoch 60/100\n",
      "3/3 [==============================] - 0s 147ms/step - loss: 0.2048 - accuracy: 0.9250 - val_loss: 0.3018 - val_accuracy: 0.8500\n",
      "Epoch 61/100\n",
      "3/3 [==============================] - 0s 145ms/step - loss: 0.2249 - accuracy: 0.9000 - val_loss: 0.2939 - val_accuracy: 0.8500\n",
      "Epoch 62/100\n",
      "3/3 [==============================] - 0s 139ms/step - loss: 0.1841 - accuracy: 0.9500 - val_loss: 0.2836 - val_accuracy: 0.8000\n",
      "Epoch 63/100\n",
      "3/3 [==============================] - 0s 147ms/step - loss: 0.2322 - accuracy: 0.9250 - val_loss: 0.2774 - val_accuracy: 0.8500\n",
      "Epoch 64/100\n",
      "3/3 [==============================] - 0s 150ms/step - loss: 0.1930 - accuracy: 0.9125 - val_loss: 0.2787 - val_accuracy: 0.8500\n",
      "Epoch 65/100\n",
      "3/3 [==============================] - 0s 145ms/step - loss: 0.1880 - accuracy: 0.9250 - val_loss: 0.3164 - val_accuracy: 0.9000\n",
      "Epoch 66/100\n",
      "3/3 [==============================] - 1s 186ms/step - loss: 0.1906 - accuracy: 0.9500 - val_loss: 0.2823 - val_accuracy: 0.8500\n",
      "Epoch 67/100\n",
      "3/3 [==============================] - 1s 169ms/step - loss: 0.2160 - accuracy: 0.9000 - val_loss: 0.2671 - val_accuracy: 0.8500\n",
      "Epoch 68/100\n",
      "3/3 [==============================] - 0s 156ms/step - loss: 0.1700 - accuracy: 0.9500 - val_loss: 0.2832 - val_accuracy: 0.8500\n",
      "Epoch 69/100\n",
      "3/3 [==============================] - 0s 148ms/step - loss: 0.1802 - accuracy: 0.9375 - val_loss: 0.2652 - val_accuracy: 0.8000\n",
      "Epoch 70/100\n",
      "3/3 [==============================] - 0s 150ms/step - loss: 0.1640 - accuracy: 0.9250 - val_loss: 0.2583 - val_accuracy: 0.8500\n",
      "Epoch 71/100\n",
      "3/3 [==============================] - 0s 164ms/step - loss: 0.1747 - accuracy: 0.9250 - val_loss: 0.2570 - val_accuracy: 0.8500\n",
      "Epoch 72/100\n",
      "3/3 [==============================] - 0s 133ms/step - loss: 0.1865 - accuracy: 0.9375 - val_loss: 0.2756 - val_accuracy: 0.8500\n",
      "Epoch 73/100\n",
      "3/3 [==============================] - 0s 163ms/step - loss: 0.1807 - accuracy: 0.9250 - val_loss: 0.2525 - val_accuracy: 0.8500\n",
      "Epoch 74/100\n",
      "3/3 [==============================] - 0s 151ms/step - loss: 0.1861 - accuracy: 0.9250 - val_loss: 0.2512 - val_accuracy: 0.8500\n",
      "Epoch 75/100\n",
      "3/3 [==============================] - 0s 146ms/step - loss: 0.1528 - accuracy: 0.9500 - val_loss: 0.2747 - val_accuracy: 0.9000\n",
      "Epoch 76/100\n",
      "3/3 [==============================] - 0s 154ms/step - loss: 0.1374 - accuracy: 0.9625 - val_loss: 0.2468 - val_accuracy: 0.8500\n",
      "Epoch 77/100\n",
      "3/3 [==============================] - 0s 151ms/step - loss: 0.1510 - accuracy: 0.9250 - val_loss: 0.2515 - val_accuracy: 0.8500\n",
      "Epoch 78/100\n",
      "3/3 [==============================] - 0s 149ms/step - loss: 0.1340 - accuracy: 0.9500 - val_loss: 0.2446 - val_accuracy: 0.8000\n",
      "Epoch 79/100\n",
      "3/3 [==============================] - 0s 158ms/step - loss: 0.1819 - accuracy: 0.9250 - val_loss: 0.2505 - val_accuracy: 0.8500\n",
      "Epoch 80/100\n",
      "3/3 [==============================] - 1s 206ms/step - loss: 0.1536 - accuracy: 0.9500 - val_loss: 0.2359 - val_accuracy: 0.8500\n",
      "Epoch 81/100\n",
      "3/3 [==============================] - 0s 147ms/step - loss: 0.1293 - accuracy: 0.9375 - val_loss: 0.2339 - val_accuracy: 0.8500\n",
      "Epoch 82/100\n",
      "3/3 [==============================] - 0s 152ms/step - loss: 0.1215 - accuracy: 0.9500 - val_loss: 0.2839 - val_accuracy: 0.9000\n",
      "Epoch 83/100\n",
      "3/3 [==============================] - 0s 152ms/step - loss: 0.1501 - accuracy: 0.9500 - val_loss: 0.2508 - val_accuracy: 0.8500\n",
      "Epoch 84/100\n",
      "3/3 [==============================] - 0s 155ms/step - loss: 0.1404 - accuracy: 0.9375 - val_loss: 0.2285 - val_accuracy: 0.8500\n",
      "Epoch 85/100\n",
      "3/3 [==============================] - 0s 166ms/step - loss: 0.1492 - accuracy: 0.9250 - val_loss: 0.2931 - val_accuracy: 0.9000\n",
      "Epoch 86/100\n",
      "3/3 [==============================] - 0s 158ms/step - loss: 0.1655 - accuracy: 0.9500 - val_loss: 0.2248 - val_accuracy: 0.8500\n",
      "Epoch 87/100\n",
      "3/3 [==============================] - 0s 164ms/step - loss: 0.1513 - accuracy: 0.9250 - val_loss: 0.2341 - val_accuracy: 0.8500\n",
      "Epoch 88/100\n",
      "3/3 [==============================] - 1s 243ms/step - loss: 0.1205 - accuracy: 0.9375 - val_loss: 0.2368 - val_accuracy: 0.9000\n",
      "Epoch 89/100\n",
      "3/3 [==============================] - 1s 191ms/step - loss: 0.1851 - accuracy: 0.9375 - val_loss: 0.2320 - val_accuracy: 0.9000\n",
      "Epoch 90/100\n",
      "3/3 [==============================] - 1s 191ms/step - loss: 0.1149 - accuracy: 0.9625 - val_loss: 0.2517 - val_accuracy: 0.9000\n",
      "Epoch 91/100\n",
      "3/3 [==============================] - 0s 140ms/step - loss: 0.1652 - accuracy: 0.9000 - val_loss: 0.2258 - val_accuracy: 0.9000\n",
      "Epoch 92/100\n",
      "3/3 [==============================] - 0s 149ms/step - loss: 0.1353 - accuracy: 0.9375 - val_loss: 0.2434 - val_accuracy: 0.9000\n",
      "Epoch 93/100\n",
      "3/3 [==============================] - 0s 144ms/step - loss: 0.1642 - accuracy: 0.9375 - val_loss: 0.2225 - val_accuracy: 0.8500\n",
      "Epoch 94/100\n",
      "3/3 [==============================] - 0s 158ms/step - loss: 0.1192 - accuracy: 0.9500 - val_loss: 0.2144 - val_accuracy: 0.9000\n",
      "Epoch 95/100\n",
      "3/3 [==============================] - 0s 153ms/step - loss: 0.1282 - accuracy: 0.9375 - val_loss: 0.2183 - val_accuracy: 0.9000\n",
      "Epoch 96/100\n",
      "3/3 [==============================] - 0s 159ms/step - loss: 0.0923 - accuracy: 0.9875 - val_loss: 0.2068 - val_accuracy: 0.8500\n",
      "Epoch 97/100\n",
      "3/3 [==============================] - 0s 147ms/step - loss: 0.1378 - accuracy: 0.9375 - val_loss: 0.2084 - val_accuracy: 0.8500\n",
      "Epoch 98/100\n",
      "3/3 [==============================] - 0s 152ms/step - loss: 0.1152 - accuracy: 0.9500 - val_loss: 0.2063 - val_accuracy: 0.8500\n",
      "Epoch 99/100\n",
      "3/3 [==============================] - 0s 153ms/step - loss: 0.1285 - accuracy: 0.9500 - val_loss: 0.2001 - val_accuracy: 0.8500\n",
      "Epoch 100/100\n",
      "3/3 [==============================] - 0s 158ms/step - loss: 0.1337 - accuracy: 0.9375 - val_loss: 0.1987 - val_accuracy: 0.8500\n"
     ]
    }
   ],
   "source": [
    "H = model.fit(x_train, y_train, validation_data=(x_test, y_test), \n",
    "          epochs=max_epochs, batch_size=32)"
   ]
  },
  {
   "cell_type": "code",
   "execution_count": 19,
   "metadata": {},
   "outputs": [
    {
     "data": {
      "image/png": "[encoded data removed]",
      "text/plain": [
       "<Figure size 432x288 with 1 Axes>"
      ]
     },
     "metadata": {},
     "output_type": "display_data"
    }
   ],
   "source": [
    "N = np.arange(0, max_epochs)\n",
    "plt.style.use(\"ggplot\")\n",
    "plt.figure()\n",
    "plt.plot(N, H.history[\"loss\"], label=\"train_loss\")\n",
    "plt.plot(N, H.history[\"val_loss\"], label=\"val_loss\")\n",
    "#plt.plot(N, H.history[\"accuracy\"], label=\"train_acc\")\n",
    "#plt.plot(N, H.history[\"val_accuracy\"], label=\"val_acc\")\n",
    "plt.xlabel(\"Epoch #\")\n",
    "plt.legend()\n",
    "plt.show()"
   ]
  },
  {
   "cell_type": "markdown",
   "metadata": {},
   "source": [
    "<h3>7. Evaluate the Model</h3>"
   ]
  },
  {
   "cell_type": "code",
   "execution_count": 20,
   "metadata": {},
   "outputs": [
    {
     "name": "stdout",
     "output_type": "stream",
     "text": [
      "                 precision    recall  f1-score   support\n",
      "\n",
      "Belimbing Wuluh       0.85      0.92      0.88        12\n",
      "    Lidah Buaya       0.86      0.75      0.80         8\n",
      "\n",
      "       accuracy                           0.85        20\n",
      "      macro avg       0.85      0.83      0.84        20\n",
      "   weighted avg       0.85      0.85      0.85        20\n",
      "\n"
     ]
    },
    {
     "name": "stderr",
     "output_type": "stream",
     "text": [
      "C:\\Users\\WINDOW~1\\AppData\\Local\\Temp/ipykernel_4868/954476436.py:3: DeprecationWarning: `np.int` is a deprecated alias for the builtin `int`. To silence this warning, use `int` by itself. Doing this will not modify any behavior and is safe. When replacing `np.int`, you may wish to use e.g. `np.int64` or `np.int32` to specify the precision. If you wish to review your current use, check the release note link for additional information.\n",
      "Deprecated in NumPy 1.20; for more details and guidance: https://numpy.org/devdocs/release/1.20.0-notes.html#deprecations\n",
      "  target = (predictions > 0.5).astype(np.int)\n"
     ]
    }
   ],
   "source": [
    "# menghitung nilai akurasi model terhadap data test\n",
    "predictions = model.predict(x_test, batch_size=32)\n",
    "target = (predictions > 0.5).astype(np.int)\n",
    "print(classification_report(y_test, target, target_names=label_list))"
   ]
  },
  {
   "cell_type": "code",
   "execution_count": 22,
   "metadata": {},
   "outputs": [
    {
     "name": "stdout",
     "output_type": "stream",
     "text": [
      "[[1.]]\n"
     ]
    }
   ],
   "source": [
    "# uji model menggunakan image lain\n",
    "queryPath = imagePaths+'Lidah_Buaya.jpg'\n",
    "query = cv2.imread(queryPath)\n",
    "output = query.copy()\n",
    "query = cv2.resize(query, (32, 32))\n",
    "q = []\n",
    "q.append(query)\n",
    "q = np.array(q, dtype='float') / 255.0\n",
    "\n",
    "q_pred = model.predict(q)\n",
    "print(q_pred)"
   ]
  },
  {
   "cell_type": "code",
   "execution_count": null,
   "metadata": {},
   "outputs": [],
   "source": [
    "if q_pred<=0.5 :\n",
    "    target = \"Lidah Buaya\"\n",
    "else :\n",
    "    target = \"Belimbing Wuluh\"\n",
    "text = \"{}\".format(target)\n",
    "cv2.putText(output, text, (10, 30), cv2.FONT_HERSHEY_SIMPLEX, 0.7, (0, 0, 255), 2)\n",
    " \n",
    "# menampilkan output image\n",
    "cv2.imshow('Output', output)\n",
    "cv2.waitKey() # image tidak akan diclose,sebelum user menekan sembarang tombol\n",
    "cv2.destroyWindow('Output') # image akan diclose"
   ]
  },
  {
   "cell_type": "code",
   "execution_count": null,
   "metadata": {},
   "outputs": [],
   "source": []
  }
 ],
 "metadata": {
  "kernelspec": {
   "display_name": "Python 3 (ipykernel)",
   "language": "python",
   "name": "python3"
  },
  "language_info": {
   "codemirror_mode": {
    "name": "ipython",
    "version": 3
   },
   "file_extension": ".py",
   "mimetype": "text/x-python",
   "name": "python",
   "nbconvert_exporter": "python",
   "pygments_lexer": "ipython3",
   "version": "3.9.5"
  }
 },
 "nbformat": 4,
 "nbformat_minor": 4
}
