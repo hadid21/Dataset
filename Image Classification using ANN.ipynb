{
 "cells": [
  {
   "cell_type": "code",
   "execution_count": 1,
   "metadata": {},
   "outputs": [],
   "source": [
    "from sklearn.model_selection import train_test_split\n",
    "from sklearn.preprocessing import LabelEncoder\n",
    "from sklearn.metrics import classification_report\n",
    "from tensorflow.keras.models import Sequential\n",
    "from tensorflow.keras.layers import Flatten, Dense\n",
    "from tensorflow.keras.optimizers import SGD\n",
    "import numpy as np\n",
    "import cv2\n",
    "import glob\n",
    "import matplotlib.pyplot as plt"
   ]
  },
  {
   "cell_type": "markdown",
   "metadata": {},
   "source": [
    "<h3>2. Load Dataset</h3>"
   ]
  },
  {
   "cell_type": "code",
   "execution_count": 5,
   "metadata": {},
   "outputs": [],
   "source": [
    "imagePaths = 'Dataset\\\\'\n",
    "label_list = ['Belimbing Wuluh', 'Lidah Buaya']\n",
    "data = []\n",
    "labels = []"
   ]
  },
  {
   "cell_type": "code",
   "execution_count": 6,
   "metadata": {},
   "outputs": [],
   "source": [
    "for label in label_list:\n",
    "    for imagePath in glob.glob(imagePaths+label+'\\\\*.jpg'):\n",
    "        #print(imagePath)\n",
    "        image = cv2.imread(imagePath)\n",
    "        image = cv2.resize(image, (32, 32))\n",
    "        data.append(image)\n",
    "        labels.append(label)"
   ]
  },
  {
   "cell_type": "code",
   "execution_count": 7,
   "metadata": {},
   "outputs": [
    {
     "data": {
      "text/plain": [
       "(100, 32, 32, 3)"
      ]
     },
     "execution_count": 7,
     "metadata": {},
     "output_type": "execute_result"
    }
   ],
   "source": [
    "np.array(data).shape"
   ]
  },
  {
   "cell_type": "markdown",
   "metadata": {},
   "source": [
    "<h3>3. Data Preprocessing</h3>"
   ]
  },
  {
   "cell_type": "code",
   "execution_count": 8,
   "metadata": {},
   "outputs": [],
   "source": [
    "# ubah type data dari list menjadi array\n",
    "# ubah nilai dari tiap pixel menjadi range [0..1]\n",
    "data = np.array(data, dtype='float') / 255.0\n",
    "labels = np.array(labels)"
   ]
  },
  {
   "cell_type": "code",
   "execution_count": 9,
   "metadata": {},
   "outputs": [
    {
     "name": "stdout",
     "output_type": "stream",
     "text": [
      "['Belimbing Wuluh' 'Belimbing Wuluh' 'Belimbing Wuluh' 'Belimbing Wuluh'\n",
      " 'Belimbing Wuluh' 'Belimbing Wuluh' 'Belimbing Wuluh' 'Belimbing Wuluh'\n",
      " 'Belimbing Wuluh' 'Belimbing Wuluh' 'Belimbing Wuluh' 'Belimbing Wuluh'\n",
      " 'Belimbing Wuluh' 'Belimbing Wuluh' 'Belimbing Wuluh' 'Belimbing Wuluh'\n",
      " 'Belimbing Wuluh' 'Belimbing Wuluh' 'Belimbing Wuluh' 'Belimbing Wuluh'\n",
      " 'Belimbing Wuluh' 'Belimbing Wuluh' 'Belimbing Wuluh' 'Belimbing Wuluh'\n",
      " 'Belimbing Wuluh' 'Belimbing Wuluh' 'Belimbing Wuluh' 'Belimbing Wuluh'\n",
      " 'Belimbing Wuluh' 'Belimbing Wuluh' 'Belimbing Wuluh' 'Belimbing Wuluh'\n",
      " 'Belimbing Wuluh' 'Belimbing Wuluh' 'Belimbing Wuluh' 'Belimbing Wuluh'\n",
      " 'Belimbing Wuluh' 'Belimbing Wuluh' 'Belimbing Wuluh' 'Belimbing Wuluh'\n",
      " 'Belimbing Wuluh' 'Belimbing Wuluh' 'Belimbing Wuluh' 'Belimbing Wuluh'\n",
      " 'Belimbing Wuluh' 'Belimbing Wuluh' 'Belimbing Wuluh' 'Belimbing Wuluh'\n",
      " 'Belimbing Wuluh' 'Belimbing Wuluh' 'Lidah Buaya' 'Lidah Buaya'\n",
      " 'Lidah Buaya' 'Lidah Buaya' 'Lidah Buaya' 'Lidah Buaya' 'Lidah Buaya'\n",
      " 'Lidah Buaya' 'Lidah Buaya' 'Lidah Buaya' 'Lidah Buaya' 'Lidah Buaya'\n",
      " 'Lidah Buaya' 'Lidah Buaya' 'Lidah Buaya' 'Lidah Buaya' 'Lidah Buaya'\n",
      " 'Lidah Buaya' 'Lidah Buaya' 'Lidah Buaya' 'Lidah Buaya' 'Lidah Buaya'\n",
      " 'Lidah Buaya' 'Lidah Buaya' 'Lidah Buaya' 'Lidah Buaya' 'Lidah Buaya'\n",
      " 'Lidah Buaya' 'Lidah Buaya' 'Lidah Buaya' 'Lidah Buaya' 'Lidah Buaya'\n",
      " 'Lidah Buaya' 'Lidah Buaya' 'Lidah Buaya' 'Lidah Buaya' 'Lidah Buaya'\n",
      " 'Lidah Buaya' 'Lidah Buaya' 'Lidah Buaya' 'Lidah Buaya' 'Lidah Buaya'\n",
      " 'Lidah Buaya' 'Lidah Buaya' 'Lidah Buaya' 'Lidah Buaya' 'Lidah Buaya'\n",
      " 'Lidah Buaya' 'Lidah Buaya' 'Lidah Buaya']\n"
     ]
    }
   ],
   "source": [
    "print(labels)"
   ]
  },
  {
   "cell_type": "code",
   "execution_count": 10,
   "metadata": {},
   "outputs": [
    {
     "name": "stdout",
     "output_type": "stream",
     "text": [
      "[0 0 0 0 0 0 0 0 0 0 0 0 0 0 0 0 0 0 0 0 0 0 0 0 0 0 0 0 0 0 0 0 0 0 0 0 0\n",
      " 0 0 0 0 0 0 0 0 0 0 0 0 0 1 1 1 1 1 1 1 1 1 1 1 1 1 1 1 1 1 1 1 1 1 1 1 1\n",
      " 1 1 1 1 1 1 1 1 1 1 1 1 1 1 1 1 1 1 1 1 1 1 1 1 1 1]\n"
     ]
    }
   ],
   "source": [
    "# ubah nilai dari labels menjadi binary\n",
    "lb = LabelEncoder()\n",
    "labels = lb.fit_transform(labels)\n",
    "print(labels)"
   ]
  },
  {
   "cell_type": "markdown",
   "metadata": {},
   "source": [
    "<h3>4. Split Dataset</h3>"
   ]
  },
  {
   "cell_type": "code",
   "execution_count": 11,
   "metadata": {},
   "outputs": [],
   "source": [
    "x_train, x_test, y_train, y_test = train_test_split(data, labels, test_size=0.2, random_state=42)"
   ]
  },
  {
   "cell_type": "code",
   "execution_count": 12,
   "metadata": {},
   "outputs": [
    {
     "name": "stdout",
     "output_type": "stream",
     "text": [
      "Ukuran data train = (80, 32, 32, 3)\n",
      "Ukuran data test = (20, 32, 32, 3)\n"
     ]
    }
   ],
   "source": [
    "print('Ukuran data train =', x_train.shape)\n",
    "print('Ukuran data test =', x_test.shape)"
   ]
  },
  {
   "cell_type": "markdown",
   "metadata": {},
   "source": [
    "<h3>5. Build ANN Architecture</h3>"
   ]
  },
  {
   "cell_type": "code",
   "execution_count": 13,
   "metadata": {},
   "outputs": [],
   "source": [
    "model = Sequential()\n",
    "model.add(Flatten(input_shape=(32,32,3)))\n",
    "model.add(Dense(1024, activation=\"relu\"))\n",
    "model.add(Dense(1024, activation=\"relu\"))\n",
    "model.add(Dense(1, activation=\"sigmoid\"))"
   ]
  },
  {
   "cell_type": "code",
   "execution_count": 14,
   "metadata": {},
   "outputs": [
    {
     "name": "stdout",
     "output_type": "stream",
     "text": [
      "Model: \"sequential\"\n",
      "_________________________________________________________________\n",
      " Layer (type)                Output Shape              Param #   \n",
      "=================================================================\n",
      " flatten (Flatten)           (None, 3072)              0         \n",
      "                                                                 \n",
      " dense (Dense)               (None, 1024)              3146752   \n",
      "                                                                 \n",
      " dense_1 (Dense)             (None, 1024)              1049600   \n",
      "                                                                 \n",
      " dense_2 (Dense)             (None, 1)                 1025      \n",
      "                                                                 \n",
      "=================================================================\n",
      "Total params: 4,197,377\n",
      "Trainable params: 4,197,377\n",
      "Non-trainable params: 0\n",
      "_________________________________________________________________\n"
     ]
    }
   ],
   "source": [
    "model.summary()"
   ]
  },
  {
   "cell_type": "code",
   "execution_count": 15,
   "metadata": {},
   "outputs": [],
   "source": [
    "# tentukan hyperparameter\n",
    "lr = 0.01\n",
    "max_epochs = 100\n",
    "opt_funct = SGD(learning_rate=lr)"
   ]
  },
  {
   "cell_type": "code",
   "execution_count": 16,
   "metadata": {},
   "outputs": [],
   "source": [
    "# compile arsitektur yang telah dibuat\n",
    "model.compile(loss = 'binary_crossentropy', \n",
    "              optimizer = opt_funct, \n",
    "              metrics = ['accuracy'])"
   ]
  },
  {
   "cell_type": "markdown",
   "metadata": {},
   "source": [
    "<h3>6. Train Model</h3>"
   ]
  },
  {
   "cell_type": "code",
   "execution_count": 17,
   "metadata": {},
   "outputs": [
    {
     "name": "stdout",
     "output_type": "stream",
     "text": [
      "Epoch 1/100\n",
      "3/3 [==============================] - 2s 309ms/step - loss: 0.7029 - accuracy: 0.6000 - val_loss: 1.1572 - val_accuracy: 0.4000\n",
      "Epoch 2/100\n",
      "3/3 [==============================] - 0s 123ms/step - loss: 1.0794 - accuracy: 0.5500 - val_loss: 1.2533 - val_accuracy: 0.6000\n",
      "Epoch 3/100\n",
      "3/3 [==============================] - 0s 144ms/step - loss: 1.4335 - accuracy: 0.4500 - val_loss: 0.7792 - val_accuracy: 0.4000\n",
      "Epoch 4/100\n",
      "3/3 [==============================] - 0s 120ms/step - loss: 0.5831 - accuracy: 0.7250 - val_loss: 0.6572 - val_accuracy: 0.6000\n",
      "Epoch 5/100\n",
      "3/3 [==============================] - 0s 129ms/step - loss: 0.7359 - accuracy: 0.5125 - val_loss: 0.5404 - val_accuracy: 0.9000\n",
      "Epoch 6/100\n",
      "3/3 [==============================] - 0s 172ms/step - loss: 0.5295 - accuracy: 0.8000 - val_loss: 1.5673 - val_accuracy: 0.4000\n",
      "Epoch 7/100\n",
      "3/3 [==============================] - 0s 121ms/step - loss: 0.6900 - accuracy: 0.7125 - val_loss: 0.7577 - val_accuracy: 0.4500\n",
      "Epoch 8/100\n",
      "3/3 [==============================] - 0s 132ms/step - loss: 0.4472 - accuracy: 0.8000 - val_loss: 0.5789 - val_accuracy: 0.6000\n",
      "Epoch 9/100\n",
      "3/3 [==============================] - 0s 136ms/step - loss: 0.5704 - accuracy: 0.6250 - val_loss: 0.5822 - val_accuracy: 0.6000\n",
      "Epoch 10/100\n",
      "3/3 [==============================] - 1s 232ms/step - loss: 0.4975 - accuracy: 0.6750 - val_loss: 0.4455 - val_accuracy: 0.8500\n",
      "Epoch 11/100\n",
      "3/3 [==============================] - 1s 325ms/step - loss: 0.4236 - accuracy: 0.8875 - val_loss: 0.9783 - val_accuracy: 0.4500\n",
      "Epoch 12/100\n",
      "3/3 [==============================] - 1s 328ms/step - loss: 0.7753 - accuracy: 0.5125 - val_loss: 0.4450 - val_accuracy: 0.8000\n",
      "Epoch 13/100\n",
      "3/3 [==============================] - 1s 250ms/step - loss: 0.3866 - accuracy: 0.9000 - val_loss: 0.5259 - val_accuracy: 0.7500\n",
      "Epoch 14/100\n",
      "3/3 [==============================] - 1s 222ms/step - loss: 0.5231 - accuracy: 0.6750 - val_loss: 0.5486 - val_accuracy: 0.6500\n",
      "Epoch 15/100\n",
      "3/3 [==============================] - 1s 249ms/step - loss: 0.5013 - accuracy: 0.6625 - val_loss: 0.5526 - val_accuracy: 0.6500\n",
      "Epoch 16/100\n",
      "3/3 [==============================] - 0s 187ms/step - loss: 0.4918 - accuracy: 0.6625 - val_loss: 0.4197 - val_accuracy: 0.8000\n",
      "Epoch 17/100\n",
      "3/3 [==============================] - 1s 223ms/step - loss: 0.3343 - accuracy: 0.9000 - val_loss: 0.3807 - val_accuracy: 0.8500\n",
      "Epoch 18/100\n",
      "3/3 [==============================] - 1s 191ms/step - loss: 0.3304 - accuracy: 0.9000 - val_loss: 0.3758 - val_accuracy: 0.8000\n",
      "Epoch 19/100\n",
      "3/3 [==============================] - 1s 185ms/step - loss: 0.2947 - accuracy: 0.9250 - val_loss: 0.4602 - val_accuracy: 0.8000\n",
      "Epoch 20/100\n",
      "3/3 [==============================] - 0s 128ms/step - loss: 0.2691 - accuracy: 0.9375 - val_loss: 0.7038 - val_accuracy: 0.6000\n",
      "Epoch 21/100\n",
      "3/3 [==============================] - 0s 125ms/step - loss: 0.8135 - accuracy: 0.6250 - val_loss: 0.3742 - val_accuracy: 0.9000\n",
      "Epoch 22/100\n",
      "3/3 [==============================] - 0s 125ms/step - loss: 0.3259 - accuracy: 0.8875 - val_loss: 0.3872 - val_accuracy: 0.8000\n",
      "Epoch 23/100\n",
      "3/3 [==============================] - 0s 124ms/step - loss: 0.2700 - accuracy: 0.9500 - val_loss: 0.3529 - val_accuracy: 0.8000\n",
      "Epoch 24/100\n",
      "3/3 [==============================] - 0s 150ms/step - loss: 0.3018 - accuracy: 0.9000 - val_loss: 0.3372 - val_accuracy: 0.8000\n",
      "Epoch 25/100\n",
      "3/3 [==============================] - 0s 162ms/step - loss: 0.2487 - accuracy: 0.9500 - val_loss: 0.4164 - val_accuracy: 0.8000\n",
      "Epoch 26/100\n",
      "3/3 [==============================] - 0s 143ms/step - loss: 0.3707 - accuracy: 0.8000 - val_loss: 0.5113 - val_accuracy: 0.7500\n",
      "Epoch 27/100\n",
      "3/3 [==============================] - 0s 128ms/step - loss: 0.2518 - accuracy: 0.9375 - val_loss: 0.3138 - val_accuracy: 0.8500\n",
      "Epoch 28/100\n",
      "3/3 [==============================] - 0s 132ms/step - loss: 0.2258 - accuracy: 0.9375 - val_loss: 0.3975 - val_accuracy: 0.9000\n",
      "Epoch 29/100\n",
      "3/3 [==============================] - 0s 135ms/step - loss: 0.4039 - accuracy: 0.7875 - val_loss: 0.3215 - val_accuracy: 0.9000\n",
      "Epoch 30/100\n",
      "3/3 [==============================] - 0s 201ms/step - loss: 0.2141 - accuracy: 0.9625 - val_loss: 0.3598 - val_accuracy: 0.9000\n",
      "Epoch 31/100\n",
      "3/3 [==============================] - 0s 195ms/step - loss: 0.2247 - accuracy: 0.9125 - val_loss: 0.5628 - val_accuracy: 0.7500\n",
      "Epoch 32/100\n",
      "3/3 [==============================] - 1s 213ms/step - loss: 0.4695 - accuracy: 0.7125 - val_loss: 0.3970 - val_accuracy: 0.8000\n",
      "Epoch 33/100\n",
      "3/3 [==============================] - 1s 256ms/step - loss: 0.5558 - accuracy: 0.7000 - val_loss: 0.7621 - val_accuracy: 0.5500\n",
      "Epoch 34/100\n",
      "3/3 [==============================] - 1s 315ms/step - loss: 0.4348 - accuracy: 0.7750 - val_loss: 0.3091 - val_accuracy: 0.8500\n",
      "Epoch 35/100\n",
      "3/3 [==============================] - 1s 253ms/step - loss: 0.2288 - accuracy: 0.9375 - val_loss: 0.4126 - val_accuracy: 0.8000\n",
      "Epoch 36/100\n",
      "3/3 [==============================] - 1s 246ms/step - loss: 0.3815 - accuracy: 0.8000 - val_loss: 0.3229 - val_accuracy: 0.9000\n",
      "Epoch 37/100\n",
      "3/3 [==============================] - 1s 402ms/step - loss: 0.1999 - accuracy: 0.9625 - val_loss: 0.3941 - val_accuracy: 0.9000\n",
      "Epoch 38/100\n",
      "3/3 [==============================] - 1s 264ms/step - loss: 0.4498 - accuracy: 0.7875 - val_loss: 0.9714 - val_accuracy: 0.6000\n",
      "Epoch 39/100\n",
      "3/3 [==============================] - 1s 324ms/step - loss: 0.7056 - accuracy: 0.6500 - val_loss: 0.4258 - val_accuracy: 0.8500\n",
      "Epoch 40/100\n",
      "3/3 [==============================] - 1s 286ms/step - loss: 0.2483 - accuracy: 0.9500 - val_loss: 0.4007 - val_accuracy: 0.9000\n",
      "Epoch 41/100\n",
      "3/3 [==============================] - 1s 379ms/step - loss: 0.2037 - accuracy: 0.9625 - val_loss: 0.2971 - val_accuracy: 0.8500\n",
      "Epoch 42/100\n",
      "3/3 [==============================] - 1s 341ms/step - loss: 0.2377 - accuracy: 0.9000 - val_loss: 0.6629 - val_accuracy: 0.6000\n",
      "Epoch 43/100\n",
      "3/3 [==============================] - 1s 245ms/step - loss: 0.3165 - accuracy: 0.8750 - val_loss: 0.2872 - val_accuracy: 0.8500\n",
      "Epoch 44/100\n",
      "3/3 [==============================] - 0s 189ms/step - loss: 0.1843 - accuracy: 0.9625 - val_loss: 0.2748 - val_accuracy: 0.8000\n",
      "Epoch 45/100\n",
      "3/3 [==============================] - 1s 223ms/step - loss: 0.1705 - accuracy: 0.9750 - val_loss: 0.2718 - val_accuracy: 0.8500\n",
      "Epoch 46/100\n",
      "3/3 [==============================] - 0s 129ms/step - loss: 0.1857 - accuracy: 0.9625 - val_loss: 0.2762 - val_accuracy: 0.9000\n",
      "Epoch 47/100\n",
      "3/3 [==============================] - 0s 127ms/step - loss: 0.1676 - accuracy: 0.9375 - val_loss: 0.3313 - val_accuracy: 0.9000\n",
      "Epoch 48/100\n",
      "3/3 [==============================] - 1s 193ms/step - loss: 0.2002 - accuracy: 0.9250 - val_loss: 0.3021 - val_accuracy: 0.9000\n",
      "Epoch 49/100\n",
      "3/3 [==============================] - 0s 103ms/step - loss: 0.1625 - accuracy: 0.9500 - val_loss: 0.2559 - val_accuracy: 0.8500\n",
      "Epoch 50/100\n",
      "3/3 [==============================] - 1s 403ms/step - loss: 0.1411 - accuracy: 0.9750 - val_loss: 0.2821 - val_accuracy: 0.9000\n",
      "Epoch 51/100\n",
      "3/3 [==============================] - 1s 341ms/step - loss: 0.1661 - accuracy: 0.9500 - val_loss: 0.2515 - val_accuracy: 0.8500\n",
      "Epoch 52/100\n",
      "3/3 [==============================] - 1s 263ms/step - loss: 0.1525 - accuracy: 0.9625 - val_loss: 0.2565 - val_accuracy: 0.9000\n",
      "Epoch 53/100\n",
      "3/3 [==============================] - 1s 233ms/step - loss: 0.1347 - accuracy: 0.9500 - val_loss: 0.4295 - val_accuracy: 0.8500\n",
      "Epoch 54/100\n",
      "3/3 [==============================] - 1s 209ms/step - loss: 0.1957 - accuracy: 0.9375 - val_loss: 0.3462 - val_accuracy: 0.8000\n",
      "Epoch 55/100\n",
      "3/3 [==============================] - 1s 250ms/step - loss: 0.3880 - accuracy: 0.8125 - val_loss: 0.3915 - val_accuracy: 0.8500\n",
      "Epoch 56/100\n",
      "3/3 [==============================] - 1s 245ms/step - loss: 0.2617 - accuracy: 0.9000 - val_loss: 0.6734 - val_accuracy: 0.7000\n",
      "Epoch 57/100\n",
      "3/3 [==============================] - 1s 253ms/step - loss: 0.8256 - accuracy: 0.6375 - val_loss: 0.2722 - val_accuracy: 0.8000\n",
      "Epoch 58/100\n",
      "3/3 [==============================] - 1s 242ms/step - loss: 0.1531 - accuracy: 0.9625 - val_loss: 0.3042 - val_accuracy: 0.9000\n",
      "Epoch 59/100\n",
      "3/3 [==============================] - 1s 291ms/step - loss: 0.1393 - accuracy: 0.9500 - val_loss: 0.2545 - val_accuracy: 0.8000\n",
      "Epoch 60/100\n",
      "3/3 [==============================] - 1s 276ms/step - loss: 0.1635 - accuracy: 0.9250 - val_loss: 0.3354 - val_accuracy: 0.8000\n",
      "Epoch 61/100\n",
      "3/3 [==============================] - 1s 224ms/step - loss: 0.1695 - accuracy: 0.9625 - val_loss: 0.2952 - val_accuracy: 0.9000\n",
      "Epoch 62/100\n",
      "3/3 [==============================] - 1s 182ms/step - loss: 0.1735 - accuracy: 0.9500 - val_loss: 0.2817 - val_accuracy: 0.9000\n",
      "Epoch 63/100\n",
      "3/3 [==============================] - 1s 179ms/step - loss: 0.1394 - accuracy: 0.9750 - val_loss: 0.2464 - val_accuracy: 0.9000\n",
      "Epoch 64/100\n",
      "3/3 [==============================] - 1s 192ms/step - loss: 0.1492 - accuracy: 0.9625 - val_loss: 0.3631 - val_accuracy: 0.9000\n",
      "Epoch 65/100\n",
      "3/3 [==============================] - 1s 185ms/step - loss: 0.1233 - accuracy: 0.9625 - val_loss: 0.2520 - val_accuracy: 0.9000\n",
      "Epoch 66/100\n",
      "3/3 [==============================] - 1s 197ms/step - loss: 0.1175 - accuracy: 0.9625 - val_loss: 0.3135 - val_accuracy: 0.9000\n",
      "Epoch 67/100\n",
      "3/3 [==============================] - 1s 235ms/step - loss: 0.1199 - accuracy: 0.9625 - val_loss: 0.2959 - val_accuracy: 0.9000\n",
      "Epoch 68/100\n",
      "3/3 [==============================] - 1s 191ms/step - loss: 0.1137 - accuracy: 0.9625 - val_loss: 0.2548 - val_accuracy: 0.9000\n",
      "Epoch 69/100\n",
      "3/3 [==============================] - 0s 191ms/step - loss: 0.1209 - accuracy: 0.9625 - val_loss: 0.2886 - val_accuracy: 0.9000\n",
      "Epoch 70/100\n",
      "3/3 [==============================] - 1s 367ms/step - loss: 0.1730 - accuracy: 0.9375 - val_loss: 0.6972 - val_accuracy: 0.6000\n",
      "Epoch 71/100\n",
      "3/3 [==============================] - 1s 252ms/step - loss: 0.3436 - accuracy: 0.8000 - val_loss: 0.4419 - val_accuracy: 0.8500\n",
      "Epoch 72/100\n",
      "3/3 [==============================] - 1s 319ms/step - loss: 0.1527 - accuracy: 0.9625 - val_loss: 0.2264 - val_accuracy: 0.8500\n",
      "Epoch 73/100\n",
      "3/3 [==============================] - 1s 260ms/step - loss: 0.1461 - accuracy: 0.9375 - val_loss: 0.7972 - val_accuracy: 0.6000\n",
      "Epoch 74/100\n",
      "3/3 [==============================] - 0s 164ms/step - loss: 0.5406 - accuracy: 0.7250 - val_loss: 0.2449 - val_accuracy: 0.9000\n",
      "Epoch 75/100\n",
      "3/3 [==============================] - 0s 155ms/step - loss: 0.1415 - accuracy: 0.9625 - val_loss: 0.2344 - val_accuracy: 0.9000\n",
      "Epoch 76/100\n",
      "3/3 [==============================] - 0s 171ms/step - loss: 0.1177 - accuracy: 0.9500 - val_loss: 0.3870 - val_accuracy: 0.9000\n",
      "Epoch 77/100\n",
      "3/3 [==============================] - 0s 148ms/step - loss: 0.1172 - accuracy: 0.9750 - val_loss: 0.2382 - val_accuracy: 0.9000\n",
      "Epoch 78/100\n",
      "3/3 [==============================] - 0s 143ms/step - loss: 0.0995 - accuracy: 0.9625 - val_loss: 0.2174 - val_accuracy: 0.8500\n",
      "Epoch 79/100\n",
      "3/3 [==============================] - 0s 151ms/step - loss: 0.0996 - accuracy: 0.9875 - val_loss: 0.2524 - val_accuracy: 0.9000\n",
      "Epoch 80/100\n",
      "3/3 [==============================] - 0s 137ms/step - loss: 0.1113 - accuracy: 0.9625 - val_loss: 0.2217 - val_accuracy: 0.9000\n",
      "Epoch 81/100\n",
      "3/3 [==============================] - 1s 215ms/step - loss: 0.0989 - accuracy: 0.9625 - val_loss: 0.2131 - val_accuracy: 0.8500\n",
      "Epoch 82/100\n",
      "3/3 [==============================] - 0s 152ms/step - loss: 0.0921 - accuracy: 0.9750 - val_loss: 0.2571 - val_accuracy: 0.9000\n",
      "Epoch 83/100\n",
      "3/3 [==============================] - 1s 202ms/step - loss: 0.0879 - accuracy: 0.9750 - val_loss: 0.2131 - val_accuracy: 0.8500\n",
      "Epoch 84/100\n",
      "3/3 [==============================] - 1s 226ms/step - loss: 0.1172 - accuracy: 0.9375 - val_loss: 0.5699 - val_accuracy: 0.7500\n",
      "Epoch 85/100\n",
      "3/3 [==============================] - 1s 194ms/step - loss: 0.1630 - accuracy: 0.9375 - val_loss: 0.2229 - val_accuracy: 0.9000\n",
      "Epoch 86/100\n",
      "3/3 [==============================] - 1s 256ms/step - loss: 0.0999 - accuracy: 0.9750 - val_loss: 0.2256 - val_accuracy: 0.9000\n",
      "Epoch 87/100\n",
      "3/3 [==============================] - 1s 191ms/step - loss: 0.1236 - accuracy: 0.9625 - val_loss: 0.2129 - val_accuracy: 0.8500\n",
      "Epoch 88/100\n",
      "3/3 [==============================] - 1s 253ms/step - loss: 0.1004 - accuracy: 0.9625 - val_loss: 0.2923 - val_accuracy: 0.8000\n",
      "Epoch 89/100\n",
      "3/3 [==============================] - 1s 245ms/step - loss: 0.1151 - accuracy: 0.9625 - val_loss: 0.2103 - val_accuracy: 0.9000\n",
      "Epoch 90/100\n",
      "3/3 [==============================] - 1s 266ms/step - loss: 0.0803 - accuracy: 0.9875 - val_loss: 0.2397 - val_accuracy: 0.9000\n",
      "Epoch 91/100\n",
      "3/3 [==============================] - 1s 273ms/step - loss: 0.1363 - accuracy: 0.9500 - val_loss: 0.2519 - val_accuracy: 0.9000\n",
      "Epoch 92/100\n",
      "3/3 [==============================] - 1s 198ms/step - loss: 0.0876 - accuracy: 0.9750 - val_loss: 0.3105 - val_accuracy: 0.9000\n",
      "Epoch 93/100\n",
      "3/3 [==============================] - 1s 220ms/step - loss: 0.0839 - accuracy: 0.9875 - val_loss: 0.2030 - val_accuracy: 0.9000\n",
      "Epoch 94/100\n",
      "3/3 [==============================] - 1s 242ms/step - loss: 0.0771 - accuracy: 0.9750 - val_loss: 0.2053 - val_accuracy: 0.8500\n",
      "Epoch 95/100\n",
      "3/3 [==============================] - 1s 213ms/step - loss: 0.0836 - accuracy: 0.9750 - val_loss: 0.2468 - val_accuracy: 0.9000\n",
      "Epoch 96/100\n",
      "3/3 [==============================] - 1s 190ms/step - loss: 0.1163 - accuracy: 0.9500 - val_loss: 0.2053 - val_accuracy: 0.9000\n",
      "Epoch 97/100\n",
      "3/3 [==============================] - 1s 193ms/step - loss: 0.0748 - accuracy: 0.9750 - val_loss: 0.1983 - val_accuracy: 0.8500\n",
      "Epoch 98/100\n",
      "3/3 [==============================] - 1s 183ms/step - loss: 0.0711 - accuracy: 0.9875 - val_loss: 0.2025 - val_accuracy: 0.9000\n",
      "Epoch 99/100\n",
      "3/3 [==============================] - 1s 190ms/step - loss: 0.0730 - accuracy: 1.0000 - val_loss: 0.2002 - val_accuracy: 0.9000\n",
      "Epoch 100/100\n",
      "3/3 [==============================] - 1s 198ms/step - loss: 0.0707 - accuracy: 0.9875 - val_loss: 0.2054 - val_accuracy: 0.8500\n"
     ]
    }
   ],
   "source": [
    "H = model.fit(x_train, y_train, validation_data=(x_test, y_test), \n",
    "          epochs=max_epochs, batch_size=32)"
   ]
  },
  {
   "cell_type": "code",
   "execution_count": 18,
   "metadata": {},
   "outputs": [
    {
     "data": {
      "image/png": "[encoded data removed]",
      "text/plain": [
       "<Figure size 432x288 with 1 Axes>"
      ]
     },
     "metadata": {},
     "output_type": "display_data"
    }
   ],
   "source": [
    "N = np.arange(0, max_epochs)\n",
    "plt.style.use(\"ggplot\")\n",
    "plt.figure()\n",
    "plt.plot(N, H.history[\"loss\"], label=\"train_loss\")\n",
    "plt.plot(N, H.history[\"val_loss\"], label=\"val_loss\")\n",
    "#plt.plot(N, H.history[\"accuracy\"], label=\"train_acc\")\n",
    "#plt.plot(N, H.history[\"val_accuracy\"], label=\"val_acc\")\n",
    "plt.xlabel(\"Epoch #\")\n",
    "plt.legend()\n",
    "plt.show()"
   ]
  },
  {
   "cell_type": "markdown",
   "metadata": {},
   "source": [
    "<h3>7. Evaluate the Model</h3>"
   ]
  },
  {
   "cell_type": "code",
   "execution_count": 19,
   "metadata": {},
   "outputs": [
    {
     "name": "stdout",
     "output_type": "stream",
     "text": [
      "                 precision    recall  f1-score   support\n",
      "\n",
      "Belimbing Wuluh       0.85      0.92      0.88        12\n",
      "    Lidah Buaya       0.86      0.75      0.80         8\n",
      "\n",
      "       accuracy                           0.85        20\n",
      "      macro avg       0.85      0.83      0.84        20\n",
      "   weighted avg       0.85      0.85      0.85        20\n",
      "\n"
     ]
    },
    {
     "name": "stderr",
     "output_type": "stream",
     "text": [
      "C:\\Users\\WINDOW~1\\AppData\\Local\\Temp/ipykernel_18792/954476436.py:3: DeprecationWarning: `np.int` is a deprecated alias for the builtin `int`. To silence this warning, use `int` by itself. Doing this will not modify any behavior and is safe. When replacing `np.int`, you may wish to use e.g. `np.int64` or `np.int32` to specify the precision. If you wish to review your current use, check the release note link for additional information.\n",
      "Deprecated in NumPy 1.20; for more details and guidance: https://numpy.org/devdocs/release/1.20.0-notes.html#deprecations\n",
      "  target = (predictions > 0.5).astype(np.int)\n"
     ]
    }
   ],
   "source": [
    "# menghitung nilai akurasi model terhadap data test\n",
    "predictions = model.predict(x_test, batch_size=32)\n",
    "target = (predictions > 0.5).astype(np.int)\n",
    "print(classification_report(y_test, target, target_names=label_list))"
   ]
  },
  {
   "cell_type": "code",
   "execution_count": 21,
   "metadata": {},
   "outputs": [
    {
     "name": "stdout",
     "output_type": "stream",
     "text": [
      "[[0.64990735]]\n"
     ]
    }
   ],
   "source": [
    "# uji model menggunakan image lain\n",
    "queryPath = imagePaths+'Belimbing_Wuluh.jpg'\n",
    "query = cv2.imread(queryPath)\n",
    "output = query.copy()\n",
    "query = cv2.resize(query, (32, 32))\n",
    "q = []\n",
    "q.append(query)\n",
    "q = np.array(q, dtype='float') / 255.0\n",
    "\n",
    "q_pred = model.predict(q)\n",
    "print(q_pred)"
   ]
  },
  {
   "cell_type": "code",
   "execution_count": null,
   "metadata": {},
   "outputs": [],
   "source": [
    "if q_pred<=0.5 :\n",
    "    target = \"Lidah_Buaya\"\n",
    "else :\n",
    "    target = \"Belimbing_Wuluh\"\n",
    "text = \"{}\".format(target)\n",
    "cv2.putText(output, text, (10, 30), cv2.FONT_HERSHEY_SIMPLEX, 0.7, (0, 0, 255), 2)\n",
    " \n",
    "# menampilkan output image\n",
    "cv2.imshow('Output', output)\n",
    "cv2.waitKey() # image tidak akan diclose,sebelum user menekan sembarang tombol\n",
    "cv2.destroyWindow('Output') # image akan diclose"
   ]
  },
  {
   "cell_type": "code",
   "execution_count": null,
   "metadata": {},
   "outputs": [],
   "source": []
  }
 ],
 "metadata": {
  "kernelspec": {
   "display_name": "Python 3 (ipykernel)",
   "language": "python",
   "name": "python3"
  },
  "language_info": {
   "codemirror_mode": {
    "name": "ipython",
    "version": 3
   },
   "file_extension": ".py",
   "mimetype": "text/x-python",
   "name": "python",
   "nbconvert_exporter": "python",
   "pygments_lexer": "ipython3",
   "version": "3.9.5"
  }
 },
 "nbformat": 4,
 "nbformat_minor": 4
}
